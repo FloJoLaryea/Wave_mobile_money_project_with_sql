{
 "cells": [
  {
   "cell_type": "markdown",
   "id": "9888270d",
   "metadata": {},
   "source": [
    "# **WAVE MOBILE MONEY**"
   ]
  },
  {
   "cell_type": "markdown",
   "id": "e27f52dd",
   "metadata": {},
   "source": [
    "The project is about a money transfer business called Wave and sql queries were used to answer questions on it."
   ]
  },
  {
   "cell_type": "code",
   "execution_count": null,
   "id": "93e390ee",
   "metadata": {},
   "outputs": [],
   "source": [
    "# Importing essential resources to the project."
   ]
  },
  {
   "cell_type": "code",
   "execution_count": 4,
   "id": "0d83682a",
   "metadata": {},
   "outputs": [
    {
     "name": "stdout",
     "output_type": "stream",
     "text": [
      "Collecting ipython-sql\n",
      "  Downloading ipython_sql-0.5.0-py3-none-any.whl (20 kB)\n",
      "Collecting sqlparse\n",
      "  Downloading sqlparse-0.4.4-py3-none-any.whl (41 kB)\n",
      "     -------------------------------------- 41.2/41.2 kB 197.1 kB/s eta 0:00:00\n",
      "Collecting prettytable\n",
      "  Downloading prettytable-3.8.0-py3-none-any.whl (27 kB)\n",
      "Requirement already satisfied: ipython in c:\\users\\wolak\\anacondalatestversion\\lib\\site-packages (from ipython-sql) (8.10.0)\n",
      "Collecting sqlalchemy>=2.0\n",
      "  Downloading SQLAlchemy-2.0.19-cp310-cp310-win_amd64.whl (2.0 MB)\n",
      "     ---------------------------------------- 2.0/2.0 MB 892.6 kB/s eta 0:00:00\n",
      "Requirement already satisfied: ipython-genutils in c:\\users\\wolak\\anacondalatestversion\\lib\\site-packages (from ipython-sql) (0.2.0)\n",
      "Requirement already satisfied: six in c:\\users\\wolak\\anacondalatestversion\\lib\\site-packages (from ipython-sql) (1.16.0)\n",
      "Requirement already satisfied: greenlet!=0.4.17 in c:\\users\\wolak\\anacondalatestversion\\lib\\site-packages (from sqlalchemy>=2.0->ipython-sql) (2.0.1)\n",
      "Requirement already satisfied: typing-extensions>=4.2.0 in c:\\users\\wolak\\anacondalatestversion\\lib\\site-packages (from sqlalchemy>=2.0->ipython-sql) (4.4.0)\n",
      "Requirement already satisfied: jedi>=0.16 in c:\\users\\wolak\\anacondalatestversion\\lib\\site-packages (from ipython->ipython-sql) (0.18.1)\n",
      "Requirement already satisfied: pickleshare in c:\\users\\wolak\\anacondalatestversion\\lib\\site-packages (from ipython->ipython-sql) (0.7.5)\n",
      "Requirement already satisfied: prompt-toolkit<3.1.0,>=3.0.30 in c:\\users\\wolak\\anacondalatestversion\\lib\\site-packages (from ipython->ipython-sql) (3.0.36)\n",
      "Requirement already satisfied: decorator in c:\\users\\wolak\\anacondalatestversion\\lib\\site-packages (from ipython->ipython-sql) (5.1.1)\n",
      "Requirement already satisfied: stack-data in c:\\users\\wolak\\anacondalatestversion\\lib\\site-packages (from ipython->ipython-sql) (0.2.0)\n",
      "Requirement already satisfied: matplotlib-inline in c:\\users\\wolak\\anacondalatestversion\\lib\\site-packages (from ipython->ipython-sql) (0.1.6)\n",
      "Requirement already satisfied: pygments>=2.4.0 in c:\\users\\wolak\\anacondalatestversion\\lib\\site-packages (from ipython->ipython-sql) (2.11.2)\n",
      "Requirement already satisfied: colorama in c:\\users\\wolak\\anacondalatestversion\\lib\\site-packages (from ipython->ipython-sql) (0.4.6)\n",
      "Requirement already satisfied: traitlets>=5 in c:\\users\\wolak\\anacondalatestversion\\lib\\site-packages (from ipython->ipython-sql) (5.7.1)\n",
      "Requirement already satisfied: backcall in c:\\users\\wolak\\anacondalatestversion\\lib\\site-packages (from ipython->ipython-sql) (0.2.0)\n",
      "Requirement already satisfied: wcwidth in c:\\users\\wolak\\anacondalatestversion\\lib\\site-packages (from prettytable->ipython-sql) (0.2.5)\n",
      "Requirement already satisfied: parso<0.9.0,>=0.8.0 in c:\\users\\wolak\\anacondalatestversion\\lib\\site-packages (from jedi>=0.16->ipython->ipython-sql) (0.8.3)\n",
      "Requirement already satisfied: pure-eval in c:\\users\\wolak\\anacondalatestversion\\lib\\site-packages (from stack-data->ipython->ipython-sql) (0.2.2)\n",
      "Requirement already satisfied: executing in c:\\users\\wolak\\anacondalatestversion\\lib\\site-packages (from stack-data->ipython->ipython-sql) (0.8.3)\n",
      "Requirement already satisfied: asttokens in c:\\users\\wolak\\anacondalatestversion\\lib\\site-packages (from stack-data->ipython->ipython-sql) (2.0.5)\n",
      "Installing collected packages: sqlparse, sqlalchemy, prettytable, ipython-sql\n",
      "  Attempting uninstall: sqlalchemy\n",
      "    Found existing installation: SQLAlchemy 1.4.39\n",
      "    Uninstalling SQLAlchemy-1.4.39:\n",
      "      Successfully uninstalled SQLAlchemy-1.4.39\n",
      "Successfully installed ipython-sql-0.5.0 prettytable-3.8.0 sqlalchemy-2.0.19 sqlparse-0.4.4\n"
     ]
    }
   ],
   "source": [
    "!pip install ipython-sql\n",
    "%load_ext sql\n",
    "import sqlite3"
   ]
  },
  {
   "cell_type": "code",
   "execution_count": 14,
   "id": "98f208ff",
   "metadata": {},
   "outputs": [],
   "source": [
    "import pandas as pd"
   ]
  },
  {
   "cell_type": "code",
   "execution_count": null,
   "id": "dca086d9",
   "metadata": {},
   "outputs": [],
   "source": [
    "# Establishing a connection with the database known as Wave as well as the cursor to execute."
   ]
  },
  {
   "cell_type": "code",
   "execution_count": 21,
   "id": "51480f18",
   "metadata": {},
   "outputs": [],
   "source": [
    "conn = sqlite3.connect('Wave.db')\n",
    "cur = conn.cursor()\n"
   ]
  },
  {
   "cell_type": "code",
   "execution_count": 22,
   "id": "2bf328d6",
   "metadata": {},
   "outputs": [],
   "source": [
    "%sql sqlite:///Wave.db"
   ]
  },
  {
   "cell_type": "code",
   "execution_count": null,
   "id": "e0d3802e",
   "metadata": {},
   "outputs": [],
   "source": [
    "# The data are in several csv files which are read and stored in sql format"
   ]
  },
  {
   "cell_type": "code",
   "execution_count": 23,
   "id": "036ab800",
   "metadata": {},
   "outputs": [
    {
     "data": {
      "text/plain": [
       "10"
      ]
     },
     "execution_count": 23,
     "metadata": {},
     "output_type": "execute_result"
    }
   ],
   "source": [
    "df = pd.read_csv(R\"C:\\Users\\wolak\\Downloads\\DatabaseProjectFiles220801081355-220815-093656\\agents.csv\")\n",
    "df.to_sql(\"AGENTS\", conn, if_exists = 'replace',index=False, method = 'multi')"
   ]
  },
  {
   "cell_type": "code",
   "execution_count": 25,
   "id": "9ac4984f",
   "metadata": {},
   "outputs": [
    {
     "data": {
      "text/plain": [
       "10"
      ]
     },
     "execution_count": 25,
     "metadata": {},
     "output_type": "execute_result"
    }
   ],
   "source": [
    "df=pd.read_csv(R\"C:\\Users\\wolak\\Downloads\\DatabaseProjectFiles220801081355-220815-093656\\agent_transactions.csv\")\n",
    "\n",
    "df.to_sql(\"AGENT_TRANSACTIONS\", conn, if_exists = \"replace\",index=False, method = \"multi\")\n",
    "\n",
    "df=pd.read_csv(R\"C:\\Users\\wolak\\Downloads\\DatabaseProjectFiles220801081355-220815-093656\\transfers.csv\")\n",
    "\n",
    "df.to_sql(\"TRANSFERS\", conn, if_exists = \"replace\",index=False, method = \"multi\")\n",
    "\n",
    "df=pd.read_csv(R\"C:\\Users\\wolak\\Downloads\\DatabaseProjectFiles220801081355-220815-093656\\wallets.csv\")\n",
    "\n",
    "df.to_sql(\"WALLETS\", conn, if_exists = \"replace\",index=False, method = \"multi\")\n",
    "\n",
    "df=pd.read_csv(R\"C:\\Users\\wolak\\Downloads\\DatabaseProjectFiles220801081355-220815-093656\\users.csv\")\n",
    "\n",
    "df.to_sql(\"USERS\", conn, if_exists = \"replace\",index=False, method = \"multi\")"
   ]
  },
  {
   "cell_type": "code",
   "execution_count": null,
   "id": "699a28ed",
   "metadata": {},
   "outputs": [],
   "source": [
    "# Double checking to see if all csv load and sql saves were succesful using sqlite_master."
   ]
  },
  {
   "cell_type": "code",
   "execution_count": 26,
   "id": "fa85d30b",
   "metadata": {
    "scrolled": true
   },
   "outputs": [
    {
     "name": "stdout",
     "output_type": "stream",
     "text": [
      "   sqlite:///Shipment.db\n",
      " * sqlite:///Wave.db\n",
      "Done.\n"
     ]
    },
    {
     "data": {
      "text/html": [
       "<table>\n",
       "    <thead>\n",
       "        <tr>\n",
       "            <th>name</th>\n",
       "        </tr>\n",
       "    </thead>\n",
       "    <tbody>\n",
       "        <tr>\n",
       "            <td>AGENTS</td>\n",
       "        </tr>\n",
       "        <tr>\n",
       "            <td>AGENT_TRANSACTIONS</td>\n",
       "        </tr>\n",
       "        <tr>\n",
       "            <td>TRANSFERS</td>\n",
       "        </tr>\n",
       "        <tr>\n",
       "            <td>WALLETS</td>\n",
       "        </tr>\n",
       "        <tr>\n",
       "            <td>USERS</td>\n",
       "        </tr>\n",
       "    </tbody>\n",
       "</table>"
      ],
      "text/plain": [
       "[('AGENTS',),\n",
       " ('AGENT_TRANSACTIONS',),\n",
       " ('TRANSFERS',),\n",
       " ('WALLETS',),\n",
       " ('USERS',)]"
      ]
     },
     "execution_count": 26,
     "metadata": {},
     "output_type": "execute_result"
    }
   ],
   "source": [
    "%sql SELECT name FROM sqlite_master WHERE type='table';"
   ]
  },
  {
   "cell_type": "markdown",
   "id": "55e33100",
   "metadata": {},
   "source": [
    "## 1. How many users does Wave have?"
   ]
  },
  {
   "cell_type": "code",
   "execution_count": 27,
   "id": "16cf4cd8",
   "metadata": {
    "scrolled": true
   },
   "outputs": [
    {
     "name": "stdout",
     "output_type": "stream",
     "text": [
      "   sqlite:///Shipment.db\n",
      " * sqlite:///Wave.db\n",
      "Done.\n"
     ]
    },
    {
     "data": {
      "text/html": [
       "<table>\n",
       "    <thead>\n",
       "        <tr>\n",
       "            <th>No_users</th>\n",
       "        </tr>\n",
       "    </thead>\n",
       "    <tbody>\n",
       "        <tr>\n",
       "            <td>10</td>\n",
       "        </tr>\n",
       "    </tbody>\n",
       "</table>"
      ],
      "text/plain": [
       "[(10,)]"
      ]
     },
     "execution_count": 27,
     "metadata": {},
     "output_type": "execute_result"
    }
   ],
   "source": [
    "%sql SELECT COUNT (*) AS No_users FROM users;"
   ]
  },
  {
   "cell_type": "markdown",
   "id": "646546d6",
   "metadata": {},
   "source": [
    "## 2. How many transfers have been sent in the currency CFA?"
   ]
  },
  {
   "cell_type": "code",
   "execution_count": 31,
   "id": "9cdbc495",
   "metadata": {
    "scrolled": true
   },
   "outputs": [
    {
     "name": "stdout",
     "output_type": "stream",
     "text": [
      "   sqlite:///Shipment.db\n",
      " * sqlite:///Wave.db\n",
      "Done.\n"
     ]
    },
    {
     "data": {
      "text/html": [
       "<table>\n",
       "    <thead>\n",
       "        <tr>\n",
       "            <th>kind</th>\n",
       "            <th>Transfers_in_CFA</th>\n",
       "        </tr>\n",
       "    </thead>\n",
       "    <tbody>\n",
       "        <tr>\n",
       "            <td>Merchant</td>\n",
       "            <td>2</td>\n",
       "        </tr>\n",
       "        <tr>\n",
       "            <td>P2P</td>\n",
       "            <td>4</td>\n",
       "        </tr>\n",
       "    </tbody>\n",
       "</table>"
      ],
      "text/plain": [
       "[('Merchant', 2), ('P2P', 4)]"
      ]
     },
     "execution_count": 31,
     "metadata": {},
     "output_type": "execute_result"
    }
   ],
   "source": [
    "%%sql SELECT kind, COUNT(send_amount_currency) as Transfers_in_CFA\n",
    "FROM transfers WHERE send_amount_currency = 'CFA'\n",
    "GROUP BY kind;"
   ]
  },
  {
   "cell_type": "markdown",
   "id": "546c7557",
   "metadata": {},
   "source": [
    "## 3. How many different users have sent a transfer in CFA?"
   ]
  },
  {
   "cell_type": "markdown",
   "id": "35668823",
   "metadata": {},
   "source": [
    "A transfer in Wave is when a user (denoted by their user_id in the u_id column) sends money from their Wave account (often to another Wave user but the recipient might also be a mobile money user that hasn't signed up for an account yet, or the sender of the transfer could be making a bill payment, or a few other possibilities; the kind column stores which possibility."
   ]
  },
  {
   "cell_type": "code",
   "execution_count": 33,
   "id": "7a5c7777",
   "metadata": {},
   "outputs": [
    {
     "name": "stdout",
     "output_type": "stream",
     "text": [
      "   sqlite:///Shipment.db\n",
      " * sqlite:///Wave.db\n",
      "Done.\n"
     ]
    },
    {
     "data": {
      "text/html": [
       "<table>\n",
       "    <thead>\n",
       "        <tr>\n",
       "            <th>user_id</th>\n",
       "            <th>kind</th>\n",
       "            <th>Transfers_in_CFA</th>\n",
       "        </tr>\n",
       "    </thead>\n",
       "    <tbody>\n",
       "        <tr>\n",
       "            <td>1</td>\n",
       "            <td>Merchant</td>\n",
       "            <td>1</td>\n",
       "        </tr>\n",
       "        <tr>\n",
       "            <td>4</td>\n",
       "            <td>P2P</td>\n",
       "            <td>1</td>\n",
       "        </tr>\n",
       "        <tr>\n",
       "            <td>5</td>\n",
       "            <td>P2P</td>\n",
       "            <td>1</td>\n",
       "        </tr>\n",
       "        <tr>\n",
       "            <td>6</td>\n",
       "            <td>P2P</td>\n",
       "            <td>1</td>\n",
       "        </tr>\n",
       "        <tr>\n",
       "            <td>7</td>\n",
       "            <td>P2P</td>\n",
       "            <td>1</td>\n",
       "        </tr>\n",
       "        <tr>\n",
       "            <td>8</td>\n",
       "            <td>Merchant</td>\n",
       "            <td>1</td>\n",
       "        </tr>\n",
       "    </tbody>\n",
       "</table>"
      ],
      "text/plain": [
       "[(1, 'Merchant', 1),\n",
       " (4, 'P2P', 1),\n",
       " (5, 'P2P', 1),\n",
       " (6, 'P2P', 1),\n",
       " (7, 'P2P', 1),\n",
       " (8, 'Merchant', 1)]"
      ]
     },
     "execution_count": 33,
     "metadata": {},
     "output_type": "execute_result"
    }
   ],
   "source": [
    "%%sql SELECT user_id, kind, COUNT(send_amount_currency) as Transfers_in_CFA\n",
    "FROM transfers WHERE send_amount_currency = 'CFA'\n",
    "GROUP BY user_id, kind;"
   ]
  },
  {
   "cell_type": "markdown",
   "id": "b862a1ac",
   "metadata": {},
   "source": [
    "## 4. How many agent transactions did we encounter in the months of 2022? (broken down by months)"
   ]
  },
  {
   "cell_type": "markdown",
   "id": "e5249677",
   "metadata": {},
   "source": [
    "An agent transaction is when someone deposits or withdraws money from a Wave agent and an agent is a person or business that is contracted to facilitate transactions for users. The most important of these are cash-in and cash-out (ie. loading value into the mobile money system and then converting it back out again)."
   ]
  },
  {
   "cell_type": "code",
   "execution_count": 37,
   "id": "1cd8bc76",
   "metadata": {},
   "outputs": [
    {
     "name": "stdout",
     "output_type": "stream",
     "text": [
      "   sqlite:///Shipment.db\n",
      " * sqlite:///Wave.db\n",
      "Done.\n"
     ]
    },
    {
     "data": {
      "text/html": [
       "<table>\n",
       "    <thead>\n",
       "        <tr>\n",
       "            <th>no_of_atx</th>\n",
       "            <th>month</th>\n",
       "        </tr>\n",
       "    </thead>\n",
       "    <tbody>\n",
       "        <tr>\n",
       "            <td>4</td>\n",
       "            <td>01</td>\n",
       "        </tr>\n",
       "        <tr>\n",
       "            <td>8</td>\n",
       "            <td>02</td>\n",
       "        </tr>\n",
       "        <tr>\n",
       "            <td>5</td>\n",
       "            <td>03</td>\n",
       "        </tr>\n",
       "        <tr>\n",
       "            <td>5</td>\n",
       "            <td>04</td>\n",
       "        </tr>\n",
       "        <tr>\n",
       "            <td>2</td>\n",
       "            <td>05</td>\n",
       "        </tr>\n",
       "        <tr>\n",
       "            <td>3</td>\n",
       "            <td>06</td>\n",
       "        </tr>\n",
       "        <tr>\n",
       "            <td>6</td>\n",
       "            <td>07</td>\n",
       "        </tr>\n",
       "        <tr>\n",
       "            <td>2</td>\n",
       "            <td>08</td>\n",
       "        </tr>\n",
       "        <tr>\n",
       "            <td>2</td>\n",
       "            <td>09</td>\n",
       "        </tr>\n",
       "        <tr>\n",
       "            <td>1</td>\n",
       "            <td>10</td>\n",
       "        </tr>\n",
       "        <tr>\n",
       "            <td>1</td>\n",
       "            <td>11</td>\n",
       "        </tr>\n",
       "        <tr>\n",
       "            <td>1</td>\n",
       "            <td>12</td>\n",
       "        </tr>\n",
       "    </tbody>\n",
       "</table>"
      ],
      "text/plain": [
       "[(4, '01'),\n",
       " (8, '02'),\n",
       " (5, '03'),\n",
       " (5, '04'),\n",
       " (2, '05'),\n",
       " (3, '06'),\n",
       " (6, '07'),\n",
       " (2, '08'),\n",
       " (2, '09'),\n",
       " (1, '10'),\n",
       " (1, '11'),\n",
       " (1, '12')]"
      ]
     },
     "execution_count": 37,
     "metadata": {},
     "output_type": "execute_result"
    }
   ],
   "source": [
    "%%sql select \n",
    "COUNT(atx_id) as no_of_atx,\n",
    "SUBSTRING (when_created, 4,2) as month\n",
    "FROM agent_transactions\n",
    "GROUP BY month\n",
    "ORDER BY month asc;"
   ]
  },
  {
   "cell_type": "markdown",
   "id": "bc980707",
   "metadata": {},
   "source": [
    "## 5. Over the course of the first half of 2022, how many wave agents were \"net depositors\" vs \"net withdrawers\"?"
   ]
  },
  {
   "cell_type": "markdown",
   "id": "d6a89ecf",
   "metadata": {},
   "source": [
    "A net depositor is an agent who received more deposit volume than withdrawal volume over some given time frame( and vice versa for a net withdrawer). Whether an agent transaction is a deposit or a withdrawal is determined by the sign of its amount: a negative amount is a deposit, and a positive amount is a withdrawal; zero amounts aren't allowed."
   ]
  },
  {
   "cell_type": "code",
   "execution_count": 53,
   "id": "868923ce",
   "metadata": {},
   "outputs": [
    {
     "name": "stdout",
     "output_type": "stream",
     "text": [
      "   sqlite:///Shipment.db\n",
      " * sqlite:///Wave.db\n",
      "Done.\n"
     ]
    },
    {
     "data": {
      "text/html": [
       "<table>\n",
       "    <thead>\n",
       "        <tr>\n",
       "            <th>Net_withdrawer</th>\n",
       "            <th>Number_Of_Net_Depositor</th>\n",
       "        </tr>\n",
       "    </thead>\n",
       "    <tbody>\n",
       "        <tr>\n",
       "            <td>30</td>\n",
       "            <td>9</td>\n",
       "        </tr>\n",
       "    </tbody>\n",
       "</table>"
      ],
      "text/plain": [
       "[(30, 9)]"
      ]
     },
     "execution_count": 53,
     "metadata": {},
     "output_type": "execute_result"
    }
   ],
   "source": [
    "%%sql select DISTINCT\n",
    "sum(case when amount > 0 then 1 else 0 end) as Net_withdrawer,\n",
    "sum(case when amount < 0 then 1 else 0 end) as Number_Of_Net_Depositor\n",
    "from agent_transactions atr\n",
    "join agents ag ON\n",
    "atr.agent_id = ag.agent_id\n",
    "where atr.when_created between '01/01/2022 00:00' and '30/06/2022 00:00';"
   ]
  },
  {
   "cell_type": "markdown",
   "id": "5ecebda7",
   "metadata": {},
   "source": [
    "## 6. Find the volume of agenttransactions created in the first half of 2022, grouped by city. \n",
    "\n",
    "The city was determined where the agent transaction took place from the agent's city field."
   ]
  },
  {
   "cell_type": "code",
   "execution_count": 42,
   "id": "acc5f7ed",
   "metadata": {},
   "outputs": [
    {
     "name": "stdout",
     "output_type": "stream",
     "text": [
      "   sqlite:///Shipment.db\n",
      " * sqlite:///Wave.db\n",
      "Done.\n"
     ]
    },
    {
     "data": {
      "text/html": [
       "<table>\n",
       "    <thead>\n",
       "        <tr>\n",
       "            <th>city</th>\n",
       "            <th>volume</th>\n",
       "        </tr>\n",
       "    </thead>\n",
       "    <tbody>\n",
       "        <tr>\n",
       "            <td>Abidjan</td>\n",
       "            <td>8</td>\n",
       "        </tr>\n",
       "        <tr>\n",
       "            <td>Abuja</td>\n",
       "            <td>5</td>\n",
       "        </tr>\n",
       "        <tr>\n",
       "            <td>Accra</td>\n",
       "            <td>8</td>\n",
       "        </tr>\n",
       "        <tr>\n",
       "            <td>Dakar</td>\n",
       "            <td>7</td>\n",
       "        </tr>\n",
       "        <tr>\n",
       "            <td>Kumasi</td>\n",
       "            <td>4</td>\n",
       "        </tr>\n",
       "        <tr>\n",
       "            <td>Lagos</td>\n",
       "            <td>4</td>\n",
       "        </tr>\n",
       "        <tr>\n",
       "            <td>Takoradi</td>\n",
       "            <td>3</td>\n",
       "        </tr>\n",
       "    </tbody>\n",
       "</table>"
      ],
      "text/plain": [
       "[('Abidjan', 8),\n",
       " ('Abuja', 5),\n",
       " ('Accra', 8),\n",
       " ('Dakar', 7),\n",
       " ('Kumasi', 4),\n",
       " ('Lagos', 4),\n",
       " ('Takoradi', 3)]"
      ]
     },
     "execution_count": 42,
     "metadata": {},
     "output_type": "execute_result"
    }
   ],
   "source": [
    "%%sql \n",
    "SELECT DISTINCT ag.city, count(atr.atx_id) as volume\n",
    "FROM agent_transactions atr\n",
    "JOIN agents ag ON\n",
    "atr.agent_id = ag.agent_id\n",
    "WHERE atr.when_created BETWEEN '01/01/2022 00:00' AND '30/06/2022 12:00'\n",
    "GROUP BY ag.city;\n"
   ]
  },
  {
   "cell_type": "markdown",
   "id": "8ed050e9",
   "metadata": {},
   "source": [
    "## 7. Separate the volume by country as well(columns should now have country, city and volume)."
   ]
  },
  {
   "cell_type": "code",
   "execution_count": 41,
   "id": "14c6e362",
   "metadata": {},
   "outputs": [
    {
     "name": "stdout",
     "output_type": "stream",
     "text": [
      "   sqlite:///Shipment.db\n",
      " * sqlite:///Wave.db\n",
      "Done.\n"
     ]
    },
    {
     "data": {
      "text/html": [
       "<table>\n",
       "    <thead>\n",
       "        <tr>\n",
       "            <th>country</th>\n",
       "            <th>city</th>\n",
       "            <th>volume</th>\n",
       "        </tr>\n",
       "    </thead>\n",
       "    <tbody>\n",
       "        <tr>\n",
       "            <td>Ivory Coast</td>\n",
       "            <td>Abidjan</td>\n",
       "            <td>8</td>\n",
       "        </tr>\n",
       "        <tr>\n",
       "            <td>Nigeria</td>\n",
       "            <td>Abuja</td>\n",
       "            <td>5</td>\n",
       "        </tr>\n",
       "        <tr>\n",
       "            <td>Ghana</td>\n",
       "            <td>Accra</td>\n",
       "            <td>8</td>\n",
       "        </tr>\n",
       "        <tr>\n",
       "            <td>Senegal</td>\n",
       "            <td>Dakar</td>\n",
       "            <td>7</td>\n",
       "        </tr>\n",
       "        <tr>\n",
       "            <td>Ghana</td>\n",
       "            <td>Kumasi</td>\n",
       "            <td>4</td>\n",
       "        </tr>\n",
       "        <tr>\n",
       "            <td>Nigeria</td>\n",
       "            <td>Lagos</td>\n",
       "            <td>4</td>\n",
       "        </tr>\n",
       "        <tr>\n",
       "            <td>Ghana</td>\n",
       "            <td>Takoradi</td>\n",
       "            <td>3</td>\n",
       "        </tr>\n",
       "    </tbody>\n",
       "</table>"
      ],
      "text/plain": [
       "[('Ivory Coast', 'Abidjan', 8),\n",
       " ('Nigeria', 'Abuja', 5),\n",
       " ('Ghana', 'Accra', 8),\n",
       " ('Senegal', 'Dakar', 7),\n",
       " ('Ghana', 'Kumasi', 4),\n",
       " ('Nigeria', 'Lagos', 4),\n",
       " ('Ghana', 'Takoradi', 3)]"
      ]
     },
     "execution_count": 41,
     "metadata": {},
     "output_type": "execute_result"
    }
   ],
   "source": [
    "%%sql \n",
    "SELECT DISTINCT ag.country, ag.city, count(atr.atx_id) as volume\n",
    "FROM agent_transactions atr\n",
    "JOIN agents ag ON\n",
    "atr.agent_id = ag.agent_id\n",
    "WHERE atr.when_created BETWEEN '01/01/2022 00:00' AND '30/06/2022 12:00'\n",
    "GROUP BY ag.city, ag.country;\n"
   ]
  },
  {
   "cell_type": "markdown",
   "id": "f2c52459",
   "metadata": {},
   "source": [
    "## 8. Build a \"send volume by country and kind\" table: find the total volume of transfers (by send_amount_scalar) sent in the first half of 2022, grouped by country and transfer kind."
   ]
  },
  {
   "cell_type": "markdown",
   "id": "3276dd62",
   "metadata": {},
   "source": [
    "There are a few different kinds of Wave transfers between a Wave user and a mobile number, or a payment from the Wave user toa merchant. The country a transfer was sent from isn't stored on the transfers table itself, but rather on the wallet's table's ledger_location field (and each transfer has a source_wallet_id)."
   ]
  },
  {
   "cell_type": "code",
   "execution_count": 48,
   "id": "fc1a76a7",
   "metadata": {},
   "outputs": [
    {
     "name": "stdout",
     "output_type": "stream",
     "text": [
      "   sqlite:///Shipment.db\n",
      " * sqlite:///Wave.db\n",
      "Done.\n"
     ]
    },
    {
     "data": {
      "text/html": [
       "<table>\n",
       "    <thead>\n",
       "        <tr>\n",
       "            <th>ledger_location</th>\n",
       "            <th>kind</th>\n",
       "            <th>volume_of_transfers</th>\n",
       "        </tr>\n",
       "    </thead>\n",
       "    <tbody>\n",
       "        <tr>\n",
       "            <td>Germany</td>\n",
       "            <td>Merchant</td>\n",
       "            <td>4</td>\n",
       "        </tr>\n",
       "        <tr>\n",
       "            <td>Germany</td>\n",
       "            <td>P2P</td>\n",
       "            <td>2</td>\n",
       "        </tr>\n",
       "        <tr>\n",
       "            <td>Ghana</td>\n",
       "            <td>Merchant</td>\n",
       "            <td>6</td>\n",
       "        </tr>\n",
       "        <tr>\n",
       "            <td>Ghana</td>\n",
       "            <td>P2P</td>\n",
       "            <td>2</td>\n",
       "        </tr>\n",
       "        <tr>\n",
       "            <td>Ivory Coast</td>\n",
       "            <td>P2P</td>\n",
       "            <td>6</td>\n",
       "        </tr>\n",
       "        <tr>\n",
       "            <td>USA</td>\n",
       "            <td>Merchant</td>\n",
       "            <td>3</td>\n",
       "        </tr>\n",
       "        <tr>\n",
       "            <td>USA</td>\n",
       "            <td>P2P</td>\n",
       "            <td>1</td>\n",
       "        </tr>\n",
       "    </tbody>\n",
       "</table>"
      ],
      "text/plain": [
       "[('Germany', 'Merchant', 4),\n",
       " ('Germany', 'P2P', 2),\n",
       " ('Ghana', 'Merchant', 6),\n",
       " ('Ghana', 'P2P', 2),\n",
       " ('Ivory Coast', 'P2P', 6),\n",
       " ('USA', 'Merchant', 3),\n",
       " ('USA', 'P2P', 1)]"
      ]
     },
     "execution_count": 48,
     "metadata": {},
     "output_type": "execute_result"
    }
   ],
   "source": [
    "%%sql \n",
    "SELECT DISTINCT wt.ledger_location, tr.kind, count(send_amount_scalar) as volume_of_transfers\n",
    "FROM transfers tr\n",
    "JOIN wallets wt ON wt.wallet_id = tr.source_wallet_id\n",
    "WHERE tr.when_created BETWEEN '01/01/2022 00:00' AND '30/06/2022 23:59'\n",
    "GROUP BY wt.ledger_location,tr.kind ;\n"
   ]
  },
  {
   "cell_type": "markdown",
   "id": "270e35cc",
   "metadata": {},
   "source": [
    "## 9. Add columns for the unique senders (still broken down by country and kind)"
   ]
  },
  {
   "cell_type": "code",
   "execution_count": 47,
   "id": "df0117a8",
   "metadata": {},
   "outputs": [
    {
     "name": "stdout",
     "output_type": "stream",
     "text": [
      "   sqlite:///Shipment.db\n",
      " * sqlite:///Wave.db\n",
      "Done.\n"
     ]
    },
    {
     "data": {
      "text/html": [
       "<table>\n",
       "    <thead>\n",
       "        <tr>\n",
       "            <th>senders</th>\n",
       "            <th>ledger_location</th>\n",
       "            <th>kind</th>\n",
       "            <th>vol_of_transfers</th>\n",
       "        </tr>\n",
       "    </thead>\n",
       "    <tbody>\n",
       "        <tr>\n",
       "            <td>1</td>\n",
       "            <td>Ghana</td>\n",
       "            <td>Merchant</td>\n",
       "            <td>3</td>\n",
       "        </tr>\n",
       "        <tr>\n",
       "            <td>2</td>\n",
       "            <td>Ghana</td>\n",
       "            <td>P2P</td>\n",
       "            <td>1</td>\n",
       "        </tr>\n",
       "        <tr>\n",
       "            <td>2</td>\n",
       "            <td>USA</td>\n",
       "            <td>Merchant</td>\n",
       "            <td>2</td>\n",
       "        </tr>\n",
       "        <tr>\n",
       "            <td>3</td>\n",
       "            <td>Germany</td>\n",
       "            <td>Merchant</td>\n",
       "            <td>1</td>\n",
       "        </tr>\n",
       "        <tr>\n",
       "            <td>3</td>\n",
       "            <td>Ivory Coast</td>\n",
       "            <td>P2P</td>\n",
       "            <td>1</td>\n",
       "        </tr>\n",
       "        <tr>\n",
       "            <td>3</td>\n",
       "            <td>USA</td>\n",
       "            <td>Merchant</td>\n",
       "            <td>1</td>\n",
       "        </tr>\n",
       "        <tr>\n",
       "            <td>4</td>\n",
       "            <td>Ghana</td>\n",
       "            <td>Merchant</td>\n",
       "            <td>1</td>\n",
       "        </tr>\n",
       "        <tr>\n",
       "            <td>4</td>\n",
       "            <td>Ivory Coast</td>\n",
       "            <td>P2P</td>\n",
       "            <td>1</td>\n",
       "        </tr>\n",
       "        <tr>\n",
       "            <td>5</td>\n",
       "            <td>Germany</td>\n",
       "            <td>P2P</td>\n",
       "            <td>1</td>\n",
       "        </tr>\n",
       "        <tr>\n",
       "            <td>5</td>\n",
       "            <td>Ivory Coast</td>\n",
       "            <td>P2P</td>\n",
       "            <td>1</td>\n",
       "        </tr>\n",
       "        <tr>\n",
       "            <td>6</td>\n",
       "            <td>Germany</td>\n",
       "            <td>Merchant</td>\n",
       "            <td>1</td>\n",
       "        </tr>\n",
       "        <tr>\n",
       "            <td>6</td>\n",
       "            <td>Ghana</td>\n",
       "            <td>P2P</td>\n",
       "            <td>1</td>\n",
       "        </tr>\n",
       "        <tr>\n",
       "            <td>6</td>\n",
       "            <td>Ivory Coast</td>\n",
       "            <td>P2P</td>\n",
       "            <td>1</td>\n",
       "        </tr>\n",
       "        <tr>\n",
       "            <td>7</td>\n",
       "            <td>Ivory Coast</td>\n",
       "            <td>P2P</td>\n",
       "            <td>2</td>\n",
       "        </tr>\n",
       "        <tr>\n",
       "            <td>8</td>\n",
       "            <td>Germany</td>\n",
       "            <td>Merchant</td>\n",
       "            <td>1</td>\n",
       "        </tr>\n",
       "        <tr>\n",
       "            <td>8</td>\n",
       "            <td>Ghana</td>\n",
       "            <td>Merchant</td>\n",
       "            <td>1</td>\n",
       "        </tr>\n",
       "        <tr>\n",
       "            <td>9</td>\n",
       "            <td>Germany</td>\n",
       "            <td>Merchant</td>\n",
       "            <td>1</td>\n",
       "        </tr>\n",
       "        <tr>\n",
       "            <td>9</td>\n",
       "            <td>Germany</td>\n",
       "            <td>P2P</td>\n",
       "            <td>1</td>\n",
       "        </tr>\n",
       "        <tr>\n",
       "            <td>9</td>\n",
       "            <td>Ghana</td>\n",
       "            <td>Merchant</td>\n",
       "            <td>1</td>\n",
       "        </tr>\n",
       "        <tr>\n",
       "            <td>10</td>\n",
       "            <td>USA</td>\n",
       "            <td>P2P</td>\n",
       "            <td>1</td>\n",
       "        </tr>\n",
       "    </tbody>\n",
       "</table>"
      ],
      "text/plain": [
       "[(1, 'Ghana', 'Merchant', 3),\n",
       " (2, 'Ghana', 'P2P', 1),\n",
       " (2, 'USA', 'Merchant', 2),\n",
       " (3, 'Germany', 'Merchant', 1),\n",
       " (3, 'Ivory Coast', 'P2P', 1),\n",
       " (3, 'USA', 'Merchant', 1),\n",
       " (4, 'Ghana', 'Merchant', 1),\n",
       " (4, 'Ivory Coast', 'P2P', 1),\n",
       " (5, 'Germany', 'P2P', 1),\n",
       " (5, 'Ivory Coast', 'P2P', 1),\n",
       " (6, 'Germany', 'Merchant', 1),\n",
       " (6, 'Ghana', 'P2P', 1),\n",
       " (6, 'Ivory Coast', 'P2P', 1),\n",
       " (7, 'Ivory Coast', 'P2P', 2),\n",
       " (8, 'Germany', 'Merchant', 1),\n",
       " (8, 'Ghana', 'Merchant', 1),\n",
       " (9, 'Germany', 'Merchant', 1),\n",
       " (9, 'Germany', 'P2P', 1),\n",
       " (9, 'Ghana', 'Merchant', 1),\n",
       " (10, 'USA', 'P2P', 1)]"
      ]
     },
     "execution_count": 47,
     "metadata": {},
     "output_type": "execute_result"
    }
   ],
   "source": [
    "%%sql SELECT DISTINCT(tr.user_id)as senders,wt.ledger_location, tr.kind, count(tr.send_amount_scalar) as vol_of_transfers\n",
    "FROM transfers tr\n",
    "JOIN wallets wt ON wt.wallet_id = tr.source_wallet_id\n",
    "WHERE tr.when_created BETWEEN '01/01/2022 00:00' AND '30/06/2022 23:59'\n",
    "GROUP BY tr.user_id, wt.ledger_location,tr.kind;"
   ]
  },
  {
   "cell_type": "markdown",
   "id": "3a0db40d",
   "metadata": {},
   "source": [
    "## 10. Which wallets sent more than 1,000,000 CFA in transfers (as identified by the source_wallet_id column on the transfers table) and how much did they spend?"
   ]
  },
  {
   "cell_type": "code",
   "execution_count": 50,
   "id": "900089a3",
   "metadata": {},
   "outputs": [
    {
     "name": "stdout",
     "output_type": "stream",
     "text": [
      "   sqlite:///Shipment.db\n",
      " * sqlite:///Wave.db\n",
      "Done.\n"
     ]
    },
    {
     "data": {
      "text/html": [
       "<table>\n",
       "    <thead>\n",
       "        <tr>\n",
       "            <th>wallet_id</th>\n",
       "            <th>send_amount_scalar</th>\n",
       "            <th>when_created</th>\n",
       "        </tr>\n",
       "    </thead>\n",
       "    <tbody>\n",
       "        <tr>\n",
       "            <td>5</td>\n",
       "            <td>2000000</td>\n",
       "            <td>06/02/2022 00:00</td>\n",
       "        </tr>\n",
       "        <tr>\n",
       "            <td>7</td>\n",
       "            <td>1400000</td>\n",
       "            <td>10/05/2022 00:00</td>\n",
       "        </tr>\n",
       "        <tr>\n",
       "            <td>9</td>\n",
       "            <td>12150000</td>\n",
       "            <td>21/05/2022 00:00</td>\n",
       "        </tr>\n",
       "    </tbody>\n",
       "</table>"
      ],
      "text/plain": [
       "[(5, 2000000, '06/02/2022 00:00'),\n",
       " (7, 1400000, '10/05/2022 00:00'),\n",
       " (9, 12150000, '21/05/2022 00:00')]"
      ]
     },
     "execution_count": 50,
     "metadata": {},
     "output_type": "execute_result"
    }
   ],
   "source": [
    "%%sql\n",
    "SELECT wt.wallet_id, tr.send_amount_scalar, tr.when_created\n",
    "FROM transfers tr\n",
    "JOIN wallets wt ON wt.wallet_id = tr.source_wallet_id\n",
    "WHERE tr.send_amount_scalar > 1000000;"
   ]
  },
  {
   "cell_type": "code",
   "execution_count": null,
   "id": "272a9397",
   "metadata": {},
   "outputs": [],
   "source": [
    "#Closing the connection"
   ]
  },
  {
   "cell_type": "code",
   "execution_count": 52,
   "id": "871a8100",
   "metadata": {},
   "outputs": [],
   "source": [
    "conn.close()"
   ]
  }
 ],
 "metadata": {
  "kernelspec": {
   "display_name": "Python 3 (ipykernel)",
   "language": "python",
   "name": "python3"
  },
  "language_info": {
   "codemirror_mode": {
    "name": "ipython",
    "version": 3
   },
   "file_extension": ".py",
   "mimetype": "text/x-python",
   "name": "python",
   "nbconvert_exporter": "python",
   "pygments_lexer": "ipython3",
   "version": "3.10.9"
  }
 },
 "nbformat": 4,
 "nbformat_minor": 5
}
